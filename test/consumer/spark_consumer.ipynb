{
 "cells": [
  {
   "cell_type": "code",
   "execution_count": 1,
   "id": "ba9b64aa",
   "metadata": {},
   "outputs": [],
   "source": [
    "from pyspark.sql import SparkSession\n",
    "from pyspark.sql.avro.functions import from_avro\n",
    "from pyspark.sql.functions import *\n",
    "from pyspark.sql.types import *"
   ]
  },
  {
   "cell_type": "code",
   "execution_count": 2,
   "id": "c845753e",
   "metadata": {},
   "outputs": [],
   "source": [
    "spark = SparkSession.builder \\\n",
    "    .appName(\"KafkaAvroConsumer\") \\\n",
    "    .config(\"spark.jars.packages\", \n",
    "            \"org.apache.spark:spark-sql-kafka-0-10_2.12:3.5.3,\" \\\n",
    "            \"org.apache.spark:spark-avro_2.12:3.5.3\") \\\n",
    "    .getOrCreate()"
   ]
  },
  {
   "cell_type": "code",
   "execution_count": 3,
   "id": "b4a997d6",
   "metadata": {},
   "outputs": [],
   "source": [
    "kafka_bootstrap_servers = \"localhost:9092\"\n",
    "kafka_topic = \"green-taxi\"\n",
    "schema_registry_url = \"http://localhost:8081\"\n",
    "\n",
    "schema_str = \"\"\"\n",
    "{\n",
    "  \"type\": \"record\",\n",
    "  \"name\": \"GreenTaxiSchema\",\n",
    "  \"fields\": [\n",
    "    {\"name\": \"VendorID\", \"type\": [\"null\", \"long\"], \"default\": null},\n",
    "    {\"name\": \"lpep_pickup_datetime\", \"type\": [\"null\", \"string\"], \"default\": null},\n",
    "    {\"name\": \"lpep_dropoff_datetime\", \"type\": [\"null\", \"string\"], \"default\": null},\n",
    "    {\"name\": \"store_and_fwd_flag\", \"type\": [\"null\", \"string\"], \"default\": null},\n",
    "    {\"name\": \"RatecodeID\", \"type\": [\"null\", \"long\"], \"default\": null},\n",
    "    {\"name\": \"PULocationID\", \"type\": [\"null\", \"long\"], \"default\": null},\n",
    "    {\"name\": \"DOLocationID\", \"type\": [\"null\", \"long\"], \"default\": null},\n",
    "    {\"name\": \"passenger_count\", \"type\": [\"null\", \"long\"], \"default\": null},\n",
    "    {\"name\": \"trip_distance\", \"type\": [\"null\", \"double\"], \"default\": null},\n",
    "    {\"name\": \"fare_amount\", \"type\": [\"null\", \"double\"], \"default\": null},\n",
    "    {\"name\": \"extra\", \"type\": [\"null\", \"double\"], \"default\": null},\n",
    "    {\"name\": \"mta_tax\", \"type\": [\"null\", \"double\"], \"default\": null},\n",
    "    {\"name\": \"tip_amount\", \"type\": [\"null\", \"double\"], \"default\": null},\n",
    "    {\"name\": \"tolls_amount\", \"type\": [\"null\", \"double\"], \"default\": null},\n",
    "    {\"name\": \"ehail_fee\", \"type\": [\"null\", \"double\"], \"default\": null},\n",
    "    {\"name\": \"improvement_surcharge\", \"type\": [\"null\", \"double\"], \"default\": null},\n",
    "    {\"name\": \"total_amount\", \"type\": [\"null\", \"double\"], \"default\": null},\n",
    "    {\"name\": \"payment_type\", \"type\": [\"null\", \"long\"], \"default\": null},\n",
    "    {\"name\": \"trip_type\", \"type\": [\"null\", \"long\"], \"default\": null},\n",
    "    {\"name\": \"congestion_surcharge\", \"type\": [\"null\", \"double\"], \"default\": null}\n",
    "  ]\n",
    "}\n",
    "\"\"\""
   ]
  },
  {
   "cell_type": "code",
   "execution_count": 4,
   "id": "15b16d35",
   "metadata": {},
   "outputs": [
    {
     "name": "stdout",
     "output_type": "stream",
     "text": [
      "root\n",
      " |-- key: binary (nullable = true)\n",
      " |-- value: binary (nullable = true)\n",
      " |-- topic: string (nullable = true)\n",
      " |-- partition: integer (nullable = true)\n",
      " |-- offset: long (nullable = true)\n",
      " |-- timestamp: timestamp (nullable = true)\n",
      " |-- timestampType: integer (nullable = true)\n",
      "\n"
     ]
    }
   ],
   "source": [
    "df_stream = spark.readStream \\\n",
    "    .format(\"kafka\") \\\n",
    "    .option(\"kafka.bootstrap.servers\", kafka_bootstrap_servers) \\\n",
    "    .option(\"subscribe\", kafka_topic) \\\n",
    "    .option(\"startingOffsets\", \"earliest\") \\\n",
    "    .load()\n",
    "\n",
    "df_stream.printSchema()"
   ]
  },
  {
   "cell_type": "code",
   "execution_count": null,
   "metadata": {},
   "outputs": [
    {
     "name": "stdout",
     "output_type": "stream",
     "text": [
      "root\n",
      " |-- VendorID: long (nullable = true)\n",
      " |-- lpep_pickup_datetime: timestamp (nullable = true)\n",
      " |-- lpep_dropoff_datetime: timestamp (nullable = true)\n",
      " |-- store_and_fwd_flag: string (nullable = true)\n",
      " |-- RatecodeID: long (nullable = true)\n",
      " |-- PULocationID: long (nullable = true)\n",
      " |-- DOLocationID: long (nullable = true)\n",
      " |-- passenger_count: long (nullable = true)\n",
      " |-- trip_distance: double (nullable = true)\n",
      " |-- fare_amount: double (nullable = true)\n",
      " |-- extra: double (nullable = true)\n",
      " |-- mta_tax: double (nullable = true)\n",
      " |-- tip_amount: double (nullable = true)\n",
      " |-- tolls_amount: double (nullable = true)\n",
      " |-- ehail_fee: double (nullable = true)\n",
      " |-- improvement_surcharge: double (nullable = true)\n",
      " |-- total_amount: double (nullable = true)\n",
      " |-- payment_type: long (nullable = true)\n",
      " |-- trip_type: long (nullable = true)\n",
      " |-- congestion_surcharge: double (nullable = true)\n",
      "\n"
     ]
    }
   ],
   "source": [
    "# Bỏ 5 bytes đầu header Confluent (magic byte + schema id)\n",
    "# Bắt đầu từ byte thứ 6, substring đánh index từ 1\n",
    "df_value = df_stream \\\n",
    "    .selectExpr(\"substring(value, 6, length(value) - 5) as value_binary\") \\\n",
    "    .select(from_avro(col(\"value_binary\").cast(\"binary\"), jsonFormatSchema=schema_str).alias(\"data\")) \\\n",
    "    .select(\"data.*\") \\\n",
    "    .withColumn(\"lpep_pickup_datetime\", to_timestamp(\"lpep_pickup_datetime\")) \\\n",
    "    .withColumn(\"lpep_dropoff_datetime\", to_timestamp(\"lpep_dropoff_datetime\"))\n",
    "\n",
    "df_value.printSchema()"
   ]
  },
  {
   "cell_type": "code",
   "execution_count": null,
   "id": "701d6beb",
   "metadata": {},
   "outputs": [],
   "source": [
    "# 1 topic có n_partitions thì writeStream ra n_partitions files\n",
    "# repartition() để giảm số lượng file ghi ra, tuy nhiên ảnh hưởng hiệu suất\n",
    "df_value.repartition(1).writeStream \\\n",
    "    .format(\"json\") \\\n",
    "    .option(\"path\", \"./tmp/no_arvo/output\") \\\n",
    "    .option(\"checkpointLocation\", \"./tmp/no_arvo/checkpoints\") \\\n",
    "    .outputMode(\"append\") \\\n",
    "    .trigger(processingTime=\"10 seconds\") \\\n",
    "    .start() \\\n",
    "    .awaitTermination()"
   ]
  }
 ],
 "metadata": {
  "kernelspec": {
   "display_name": "Python 3",
   "language": "python",
   "name": "python3"
  },
  "language_info": {
   "codemirror_mode": {
    "name": "ipython",
    "version": 3
   },
   "file_extension": ".py",
   "mimetype": "text/x-python",
   "name": "python",
   "nbconvert_exporter": "python",
   "pygments_lexer": "ipython3",
   "version": "3.10.11"
  }
 },
 "nbformat": 4,
 "nbformat_minor": 5
}
