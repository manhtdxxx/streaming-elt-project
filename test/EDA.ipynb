{
 "cells": [
  {
   "cell_type": "code",
   "execution_count": 1,
   "id": "61e83a22",
   "metadata": {},
   "outputs": [],
   "source": [
    "from pyspark.sql import SparkSession\n",
    "from pyspark.sql.functions import *"
   ]
  },
  {
   "cell_type": "code",
   "execution_count": 2,
   "id": "fd6dae9e",
   "metadata": {},
   "outputs": [],
   "source": [
    "spark = SparkSession.builder \\\n",
    ".master(\"local[*]\") \\\n",
    ".appName(\"NYC-TAXI-EDA\") \\\n",
    ".getOrCreate()"
   ]
  },
  {
   "cell_type": "code",
   "execution_count": 3,
   "id": "efe001fe",
   "metadata": {},
   "outputs": [
    {
     "name": "stdout",
     "output_type": "stream",
     "text": [
      "+--------+--------------------+---------------------+------------------+----------+------------+------------+---------------+-------------+-----------+-----+-------+----------+------------+---------+---------------------+------------+------------+---------+--------------------+\n",
      "|VendorID|lpep_pickup_datetime|lpep_dropoff_datetime|store_and_fwd_flag|RatecodeID|PULocationID|DOLocationID|passenger_count|trip_distance|fare_amount|extra|mta_tax|tip_amount|tolls_amount|ehail_fee|improvement_surcharge|total_amount|payment_type|trip_type|congestion_surcharge|\n",
      "+--------+--------------------+---------------------+------------------+----------+------------+------------+---------------+-------------+-----------+-----+-------+----------+------------+---------+---------------------+------------+------------+---------+--------------------+\n",
      "|       2| 2024-01-01 00:46:55|  2024-01-01 00:58:25|                 N|         1|         236|         239|              1|         1.98|       12.8|  1.0|    0.5|      3.61|         0.0|     NULL|                  1.0|       21.66|           1|        1|                2.75|\n",
      "|       2| 2024-01-01 00:31:42|  2024-01-01 00:52:34|                 N|         1|          65|         170|              5|         6.54|       30.3|  1.0|    0.5|      7.11|         0.0|     NULL|                  1.0|       42.66|           1|        1|                2.75|\n",
      "|       2| 2024-01-01 00:30:21|  2024-01-01 00:49:23|                 N|         1|          74|         262|              1|         3.08|       19.8|  1.0|    0.5|       3.0|         0.0|     NULL|                  1.0|       28.05|           1|        1|                2.75|\n",
      "|       1| 2024-01-01 00:30:20|  2024-01-01 00:42:12|                 N|         1|          74|         116|              1|          2.4|       14.2|  1.0|    1.5|       0.0|         0.0|     NULL|                  1.0|        16.7|           2|        1|                 0.0|\n",
      "|       2| 2024-01-01 00:32:38|  2024-01-01 00:43:37|                 N|         1|          74|         243|              1|         5.14|       22.6|  1.0|    0.5|      6.28|         0.0|     NULL|                  1.0|       31.38|           1|        1|                 0.0|\n",
      "+--------+--------------------+---------------------+------------------+----------+------------+------------+---------------+-------------+-----------+-----+-------+----------+------------+---------+---------------------+------------+------------+---------+--------------------+\n",
      "only showing top 5 rows\n",
      "\n"
     ]
    }
   ],
   "source": [
    "green_df = spark.read.parquet(\"../data/2024/green/green_tripdata_2024-01.parquet\")\n",
    "green_df.show(5)"
   ]
  },
  {
   "cell_type": "code",
   "execution_count": 4,
   "id": "561613cf",
   "metadata": {},
   "outputs": [
    {
     "data": {
      "text/plain": [
       "56551"
      ]
     },
     "execution_count": 4,
     "metadata": {},
     "output_type": "execute_result"
    }
   ],
   "source": [
    "green_df.count()"
   ]
  },
  {
   "cell_type": "code",
   "execution_count": 5,
   "id": "8f92ee03",
   "metadata": {},
   "outputs": [
    {
     "name": "stdout",
     "output_type": "stream",
     "text": [
      "root\n",
      " |-- VendorID: integer (nullable = true)\n",
      " |-- lpep_pickup_datetime: timestamp_ntz (nullable = true)\n",
      " |-- lpep_dropoff_datetime: timestamp_ntz (nullable = true)\n",
      " |-- store_and_fwd_flag: string (nullable = true)\n",
      " |-- RatecodeID: long (nullable = true)\n",
      " |-- PULocationID: integer (nullable = true)\n",
      " |-- DOLocationID: integer (nullable = true)\n",
      " |-- passenger_count: long (nullable = true)\n",
      " |-- trip_distance: double (nullable = true)\n",
      " |-- fare_amount: double (nullable = true)\n",
      " |-- extra: double (nullable = true)\n",
      " |-- mta_tax: double (nullable = true)\n",
      " |-- tip_amount: double (nullable = true)\n",
      " |-- tolls_amount: double (nullable = true)\n",
      " |-- ehail_fee: double (nullable = true)\n",
      " |-- improvement_surcharge: double (nullable = true)\n",
      " |-- total_amount: double (nullable = true)\n",
      " |-- payment_type: long (nullable = true)\n",
      " |-- trip_type: long (nullable = true)\n",
      " |-- congestion_surcharge: double (nullable = true)\n",
      "\n"
     ]
    }
   ],
   "source": [
    "green_df.printSchema()"
   ]
  },
  {
   "cell_type": "code",
   "execution_count": 6,
   "id": "695b9c10",
   "metadata": {},
   "outputs": [
    {
     "name": "stdout",
     "output_type": "stream",
     "text": [
      "+--------+--------------------+---------------------+---------------+-------------+----------+------------------+------------+------------+------------+-----------+-----+-------+----------+------------+---------------------+------------+--------------------+-----------+\n",
      "|VendorID|tpep_pickup_datetime|tpep_dropoff_datetime|passenger_count|trip_distance|RatecodeID|store_and_fwd_flag|PULocationID|DOLocationID|payment_type|fare_amount|extra|mta_tax|tip_amount|tolls_amount|improvement_surcharge|total_amount|congestion_surcharge|Airport_fee|\n",
      "+--------+--------------------+---------------------+---------------+-------------+----------+------------------+------------+------------+------------+-----------+-----+-------+----------+------------+---------------------+------------+--------------------+-----------+\n",
      "|       2| 2024-01-01 00:57:55|  2024-01-01 01:17:43|              1|         1.72|         1|                 N|         186|          79|           2|       17.7|  1.0|    0.5|       0.0|         0.0|                  1.0|        22.7|                 2.5|        0.0|\n",
      "|       1| 2024-01-01 00:03:00|  2024-01-01 00:09:36|              1|          1.8|         1|                 N|         140|         236|           1|       10.0|  3.5|    0.5|      3.75|         0.0|                  1.0|       18.75|                 2.5|        0.0|\n",
      "|       1| 2024-01-01 00:17:06|  2024-01-01 00:35:01|              1|          4.7|         1|                 N|         236|          79|           1|       23.3|  3.5|    0.5|       3.0|         0.0|                  1.0|        31.3|                 2.5|        0.0|\n",
      "|       1| 2024-01-01 00:36:38|  2024-01-01 00:44:56|              1|          1.4|         1|                 N|          79|         211|           1|       10.0|  3.5|    0.5|       2.0|         0.0|                  1.0|        17.0|                 2.5|        0.0|\n",
      "|       1| 2024-01-01 00:46:51|  2024-01-01 00:52:57|              1|          0.8|         1|                 N|         211|         148|           1|        7.9|  3.5|    0.5|       3.2|         0.0|                  1.0|        16.1|                 2.5|        0.0|\n",
      "+--------+--------------------+---------------------+---------------+-------------+----------+------------------+------------+------------+------------+-----------+-----+-------+----------+------------+---------------------+------------+--------------------+-----------+\n",
      "only showing top 5 rows\n",
      "\n"
     ]
    }
   ],
   "source": [
    "yellow_df = spark.read.parquet(\"../data/2024/yellow/yellow_tripdata_2024-01.parquet\")\n",
    "yellow_df.show(5)"
   ]
  },
  {
   "cell_type": "code",
   "execution_count": 7,
   "id": "572e6b73",
   "metadata": {},
   "outputs": [
    {
     "data": {
      "text/plain": [
       "2964624"
      ]
     },
     "execution_count": 7,
     "metadata": {},
     "output_type": "execute_result"
    }
   ],
   "source": [
    "yellow_df.count()"
   ]
  },
  {
   "cell_type": "code",
   "execution_count": 8,
   "id": "dbdc22f1",
   "metadata": {},
   "outputs": [
    {
     "name": "stdout",
     "output_type": "stream",
     "text": [
      "root\n",
      " |-- VendorID: integer (nullable = true)\n",
      " |-- tpep_pickup_datetime: timestamp_ntz (nullable = true)\n",
      " |-- tpep_dropoff_datetime: timestamp_ntz (nullable = true)\n",
      " |-- passenger_count: long (nullable = true)\n",
      " |-- trip_distance: double (nullable = true)\n",
      " |-- RatecodeID: long (nullable = true)\n",
      " |-- store_and_fwd_flag: string (nullable = true)\n",
      " |-- PULocationID: integer (nullable = true)\n",
      " |-- DOLocationID: integer (nullable = true)\n",
      " |-- payment_type: long (nullable = true)\n",
      " |-- fare_amount: double (nullable = true)\n",
      " |-- extra: double (nullable = true)\n",
      " |-- mta_tax: double (nullable = true)\n",
      " |-- tip_amount: double (nullable = true)\n",
      " |-- tolls_amount: double (nullable = true)\n",
      " |-- improvement_surcharge: double (nullable = true)\n",
      " |-- total_amount: double (nullable = true)\n",
      " |-- congestion_surcharge: double (nullable = true)\n",
      " |-- Airport_fee: double (nullable = true)\n",
      "\n"
     ]
    }
   ],
   "source": [
    "yellow_df.printSchema()"
   ]
  },
  {
   "cell_type": "markdown",
   "id": "852c0608",
   "metadata": {},
   "source": [
    "| Cột Green Taxi           | Cột Yellow Taxi          | Giải thích | Ghi chú khác biệt |\n",
    "|--------------------------|---------------------------|------------|-------------------|\n",
    "| VendorID                 | VendorID                  | ID nhà cung cấp taxi. | |\n",
    "| lpep_pickup_datetime     | tpep_pickup_datetime      | Thời gian bắt đầu chuyến đi. | |\n",
    "| lpep_dropoff_datetime    | tpep_dropoff_datetime     | Thời gian kết thúc chuyến đi. | |\n",
    "| store_and_fwd_flag       | store_and_fwd_flag        | Cờ cho biết dữ liệu được lưu tạm rồi gửi (`Y`) hay gửi ngay (`N`). | |\n",
    "| RatecodeID               | RatecodeID                | Mã định giá (1 = Chuẩn, 2 = JFK, 3 = Newark,...). | |\n",
    "| PULocationID             | PULocationID              | ID vùng đón khách (TLC zone). | |\n",
    "| DOLocationID             | DOLocationID              | ID vùng trả khách. | |\n",
    "| passenger_count          | passenger_count           | Số hành khách. | |\n",
    "| trip_distance            | trip_distance             | Quãng đường di chuyển (dặm). | |\n",
    "| fare_amount              | fare_amount               | Cước phí cơ bản. | |\n",
    "| extra                    | extra                     | Phụ phí thêm (giờ cao điểm, đêm khuya,...). | |\n",
    "| mta_tax                  | mta_tax                   | Thuế MTA (thường $0.50). | |\n",
    "| tip_amount               | tip_amount                | Tiền boa hành khách trả. | |\n",
    "| tolls_amount             | tolls_amount              | Phí cầu đường. | |\n",
    "| ehail_fee                | *(Không có)*              | Phí gọi xe qua app. | 🟩 **Chỉ Green Taxi có** do hoạt động vùng ngoại ô, thường gọi qua app. |\n",
    "| improvement_surcharge    | improvement_surcharge     | Phụ phí cải tiến xe ($0.30). | |\n",
    "| total_amount             | total_amount              | Tổng số tiền thanh toán. | |\n",
    "| payment_type             | payment_type              | Hình thức thanh toán (1 = tiền mặt, 2 = thẻ,...). | |\n",
    "| trip_type                | *(Không có)*              | 1 = Đón ngoài đường, 2 = Gọi qua app. | 🟩 **Chỉ Green Taxi có** – hỗ trợ dispatch. |\n",
    "| congestion_surcharge     | congestion_surcharge      | Phí ùn tắc giao thông ($2.50 hoặc $2.75). | |\n",
    "| cbd_congestion_fee       | cbd_congestion_fee        | Phí tắc nghẽn khu trung tâm Manhattan (CBD). | |\n",
    "| *(Không có)*             | Airport_fee               | Phí sân bay (thường ở JFK). | 🟨 **Chỉ Yellow Taxi có** – thường phục vụ tuyến sân bay. |\n"
   ]
  },
  {
   "cell_type": "code",
   "execution_count": null,
   "id": "5fea0142",
   "metadata": {},
   "outputs": [],
   "source": []
  }
 ],
 "metadata": {
  "kernelspec": {
   "display_name": "Python 3",
   "language": "python",
   "name": "python3"
  },
  "language_info": {
   "codemirror_mode": {
    "name": "ipython",
    "version": 3
   },
   "file_extension": ".py",
   "mimetype": "text/x-python",
   "name": "python",
   "nbconvert_exporter": "python",
   "pygments_lexer": "ipython3",
   "version": "3.10.11"
  }
 },
 "nbformat": 4,
 "nbformat_minor": 5
}
